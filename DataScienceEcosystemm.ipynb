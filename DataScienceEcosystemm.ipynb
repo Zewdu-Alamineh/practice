{
 "cells": [
  {
   "cell_type": "markdown",
   "id": "a4b69c44",
   "metadata": {},
   "source": [
    "# Final Assignment On Jupyter Notebook\n",
    "*** Submitted on: 01/24/2024 ***"
   ]
  },
  {
   "cell_type": "code",
   "execution_count": 30,
   "id": "07641de6",
   "metadata": {},
   "outputs": [],
   "source": [
    "# Exercise 1: Create a Jupyter Notebook (Create a new Jupyter notebook called DataScienceEcosystem.ipynb)"
   ]
  },
  {
   "cell_type": "code",
   "execution_count": null,
   "id": "1f63ac52",
   "metadata": {},
   "outputs": [],
   "source": [
    "# Exercise 2: Create markdown cell with title (Data Science Tools and Ecosystem using H1 heading)of the notebook"
   ]
  },
  {
   "cell_type": "markdown",
   "id": "a417764f",
   "metadata": {},
   "source": [
    "# Data Science Tools and Ecosystem"
   ]
  },
  {
   "cell_type": "code",
   "execution_count": 33,
   "id": "8f922774",
   "metadata": {},
   "outputs": [],
   "source": [
    "# Exercise 3 - Create a markdown cell for an introduction (Write an introductory sentence about the notebook)"
   ]
  },
  {
   "cell_type": "markdown",
   "id": "5bebdd9d",
   "metadata": {},
   "source": [
    "# Introduction"
   ]
  },
  {
   "cell_type": "markdown",
   "id": "7be8f320",
   "metadata": {},
   "source": [
    "Jupyter notebook is an open source web application used to create and share documents that contains live code, equations, visualizations and text.\n",
    "In this notebook, Data Science Tools and Ecosystem are summarized."
   ]
  },
  {
   "cell_type": "markdown",
   "id": "0230376f",
   "metadata": {},
   "source": [
    "**Objectives**"
   ]
  },
  {
   "cell_type": "markdown",
   "id": "22a72bb7",
   "metadata": {},
   "source": [
    "* Practice jupyter note book \n",
    "* List both data scince tools and commonly used libraries\n",
    "* Create a table using pandas library in Python \n",
    "* Evaluate arithmetic expression using Python and much more\n",
    "* Describe Data scince ecosystems"
   ]
  },
  {
   "cell_type": "code",
   "execution_count": 1,
   "id": "42c3e9e8",
   "metadata": {},
   "outputs": [],
   "source": [
    "# Exercise 4 - Create a markdown cell to list data science languages"
   ]
  },
  {
   "cell_type": "markdown",
   "id": "53c71a22",
   "metadata": {},
   "source": [
    "###### Some of the popular languages that Data Scientists use are:\n",
    "1. python\n",
    "2. R\n",
    "3. SQL\n",
    "4. JavaScript and \n",
    "5. C/C++   \n"
   ]
  },
  {
   "cell_type": "code",
   "execution_count": 2,
   "id": "466d616d",
   "metadata": {},
   "outputs": [],
   "source": [
    "# Exercise 5 - Create a markdown cell to list data science libraries"
   ]
  },
  {
   "cell_type": "markdown",
   "id": "d4f4d29a",
   "metadata": {},
   "source": [
    "###### *Some of the commonly used libraries used by Data Scientists include*:\n",
    "1. Scintific computing libraries include pandas and numpy\n",
    "2. Visualization libraries includs Matplotlib and seaborn\n",
    "3. Machine learning and deep learining libraries includes Scikit-learn, PyTorch, Keras, TensorFlow, and Apache Spark"
   ]
  },
  {
   "cell_type": "code",
   "execution_count": 3,
   "id": "fffc7c7c",
   "metadata": {},
   "outputs": [],
   "source": [
    "# Exercise 6 - Create a markdown cell with a table of Data Science tools"
   ]
  },
  {
   "cell_type": "markdown",
   "id": "44850692",
   "metadata": {},
   "source": [
    "Create a single column table in this cell with the first row containing the header Data Science Tools. The subsequent three rows in the table should indicate three development environment open source tools used in data science.\n",
    "\n",
    "Take a screenshot of the markdown cell and name it as 6-dstools.png (Images can be saved with either the .jpg or .png extension.)\n",
    "Hint: Refer to Lab: Using Markdowns in Jupyter Notebooks to create a table."
   ]
  },
  {
   "cell_type": "markdown",
   "id": "073a624c",
   "metadata": {},
   "source": [
    "## Execute as a markdown cell\n",
    "\n",
    "\n",
    "\n",
    "| DataScince Tools |\n",
    "| -----------------|\n",
    "|    pandas        |\n",
    "|    Seaborn       |\n",
    "|    Scikit-learn  |"
   ]
  },
  {
   "cell_type": "code",
   "execution_count": null,
   "id": "35a2a48d",
   "metadata": {},
   "outputs": [],
   "source": [
    "# Exercise 7 - Create a markdown cell introducing arithmetic expression examples\n"
   ]
  },
  {
   "cell_type": "markdown",
   "id": "a8675532",
   "metadata": {},
   "source": [
    "Arithmetic expression is the study of numbers, especially the properties of traditional operations, such as:\n",
    "\n",
    "    Addition\n",
    "    Subtraction\n",
    "    Multiplication\n",
    "    Division\n",
    "Few examples of evaluating arithmetic expressions in Python;"
   ]
  },
  {
   "cell_type": "code",
   "execution_count": 35,
   "id": "d7547f85",
   "metadata": {},
   "outputs": [
    {
     "name": "stdout",
     "output_type": "stream",
     "text": [
      "14\n"
     ]
    }
   ],
   "source": [
    "# Addition\n",
    "a = 4\n",
    "b = 10\n",
    "c = a + b\n",
    "print(c)"
   ]
  },
  {
   "cell_type": "code",
   "execution_count": 36,
   "id": "91ddede1",
   "metadata": {},
   "outputs": [
    {
     "name": "stdout",
     "output_type": "stream",
     "text": [
      "6\n"
     ]
    }
   ],
   "source": [
    "# Subtraction\n",
    "d = b - a\n",
    "print(d)"
   ]
  },
  {
   "cell_type": "code",
   "execution_count": 37,
   "id": "f9f27459",
   "metadata": {},
   "outputs": [
    {
     "name": "stdout",
     "output_type": "stream",
     "text": [
      "40\n"
     ]
    }
   ],
   "source": [
    "# Multiplication\n",
    "e = a * b\n",
    "print(e)"
   ]
  },
  {
   "cell_type": "code",
   "execution_count": 38,
   "id": "d24227a1",
   "metadata": {},
   "outputs": [
    {
     "name": "stdout",
     "output_type": "stream",
     "text": [
      "0.4\n"
     ]
    }
   ],
   "source": [
    "# Division\n",
    "f = a/b\n",
    "print(f)"
   ]
  },
  {
   "cell_type": "code",
   "execution_count": 5,
   "id": "e858322a",
   "metadata": {},
   "outputs": [],
   "source": [
    "# Exercise 8 - Create a code cell to multiply and add numbers"
   ]
  },
  {
   "cell_type": "code",
   "execution_count": 16,
   "id": "6dd4e2ef",
   "metadata": {},
   "outputs": [
    {
     "data": {
      "text/plain": [
       "17"
      ]
     },
     "execution_count": 16,
     "metadata": {},
     "output_type": "execute_result"
    }
   ],
   "source": [
    "(3*4)+5     # This is a simple arithmetic expression to mutiply then add integers"
   ]
  },
  {
   "cell_type": "code",
   "execution_count": 6,
   "id": "595ab9b4",
   "metadata": {},
   "outputs": [],
   "source": [
    "# Exercise 9 - Create a code cell to convert minutes to hours"
   ]
  },
  {
   "cell_type": "code",
   "execution_count": 28,
   "id": "63cb6239",
   "metadata": {},
   "outputs": [
    {
     "name": "stdout",
     "output_type": "stream",
     "text": [
      "3.3333333333333335\n"
     ]
    }
   ],
   "source": [
    "import numpy as np    \n",
    "n = 200           # Code for expression that converts 200 minutes into hours\n",
    "hr = n*(1/60)\n",
    "print(hr)"
   ]
  },
  {
   "cell_type": "code",
   "execution_count": 7,
   "id": "4ceb8a6d",
   "metadata": {},
   "outputs": [],
   "source": [
    "# Exercise 10 - Insert a markdown cell to list Objectives (in bold and unordered list\n",
    "(bullets)) (Below the introduction cell created in Exercise 3)"
   ]
  },
  {
   "cell_type": "code",
   "execution_count": 8,
   "id": "6a6c04b4",
   "metadata": {},
   "outputs": [],
   "source": [
    "# Exercise 11 - Create a markdown cell to indicate the Author's (H2 style heading) name"
   ]
  },
  {
   "cell_type": "markdown",
   "id": "fd0d87c2",
   "metadata": {},
   "source": [
    "## Author\n",
    "Fetene, Zewdu Alamineh"
   ]
  },
  {
   "cell_type": "code",
   "execution_count": 9,
   "id": "57b351e0",
   "metadata": {},
   "outputs": [],
   "source": [
    "# Exercise 12 - Share your notebook through GitHub\n"
   ]
  },
  {
   "cell_type": "markdown",
   "id": "7f13722a",
   "metadata": {},
   "source": [
    "[upyter Notebooks](https://Jupyter.Notebooks/) "
   ]
  },
  {
   "cell_type": "code",
   "execution_count": 39,
   "id": "cfaa0847",
   "metadata": {},
   "outputs": [],
   "source": [
    "# Exercise 13 -Take a screenshot of the first page of the notebook and save it as 1-notebook.png "
   ]
  }
 ],
 "metadata": {
  "kernelspec": {
   "display_name": "Python 3 (ipykernel)",
   "language": "python",
   "name": "python3"
  },
  "language_info": {
   "codemirror_mode": {
    "name": "ipython",
    "version": 3
   },
   "file_extension": ".py",
   "mimetype": "text/x-python",
   "name": "python",
   "nbconvert_exporter": "python",
   "pygments_lexer": "ipython3",
   "version": "3.9.12"
  }
 },
 "nbformat": 4,
 "nbformat_minor": 5
}
